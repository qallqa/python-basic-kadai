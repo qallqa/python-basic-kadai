{
  "cells": [
    {
      "cell_type": "code",
      "execution_count": 9,
      "metadata": {
        "colab": {
          "base_uri": "https://localhost:8080/"
        },
        "id": "0tPmdWiBxkGQ",
        "outputId": "7d1faaee-9cb2-4218-a9bc-025da1f8d19f"
      },
      "outputs": [
        {
          "output_type": "stream",
          "name": "stdout",
          "text": [
            "上辺=10cm\n",
            "下辺=20cm\n",
            "高さ=5cm\n",
            "台形の公式=（上辺+下辺)×高さ÷2\n",
            "          = 75.0㎠\n"
          ]
        }
      ],
      "source": [
        "number1=10\n",
        "number2=20\n",
        "number3=5\n",
        "print(f\"上辺={number1}\"\"cm\")\n",
        "print(f\"下辺={number2}\"\"cm\")\n",
        "print(f\"高さ={number3}\"\"cm\")\n",
        "\n",
        "number4=(number1+number2)*number3/2\n",
        "\n",
        "print(\"台形の公式=（上辺+下辺)×高さ÷2\")\n",
        "print(f\"          = {number4}㎠\")"
      ]
    },
    {
      "cell_type": "code",
      "execution_count": null,
      "metadata": {
        "id": "20GKiLVO2IPk"
      },
      "outputs": [],
      "source": []
    }
  ],
  "metadata": {
    "colab": {
      "provenance": []
    },
    "kernelspec": {
      "display_name": "Python 3",
      "name": "python3"
    },
    "language_info": {
      "name": "python"
    }
  },
  "nbformat": 4,
  "nbformat_minor": 0
}