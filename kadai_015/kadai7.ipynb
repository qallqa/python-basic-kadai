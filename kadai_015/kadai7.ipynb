{
  "nbformat": 4,
  "nbformat_minor": 0,
  "metadata": {
    "colab": {
      "provenance": []
    },
    "kernelspec": {
      "name": "python3",
      "display_name": "Python 3"
    },
    "language_info": {
      "name": "python"
    }
  },
  "cells": [
    {
      "cell_type": "code",
      "execution_count": 5,
      "metadata": {
        "colab": {
          "base_uri": "https://localhost:8080/"
        },
        "id": "BjgJDqTPYieY",
        "outputId": "7d3a039c-05a6-4fa7-bb59-69fe2c49371b"
      },
      "outputs": [
        {
          "output_type": "stream",
          "name": "stdout",
          "text": [
            "渡辺太郎\n",
            "41\n"
          ]
        }
      ],
      "source": [
        "class Human:\n",
        "  def init (self):\n",
        "    self.name=\"\"\n",
        "    self.age=\"\"\n",
        "\n",
        "  def printinfo(self,name):\n",
        "    self.name=name\n",
        "    print(self.name)\n",
        "\n",
        "  def printinfo(self,age):\n",
        "    self.age=age\n",
        "    print(self.age)\n",
        "\n",
        "ningen=Human()\n",
        "\n",
        "ningen.printinfo(\"渡辺太郎\")\n",
        "ningen.printinfo(41)\n",
        "\n"
      ]
    }
  ]
}