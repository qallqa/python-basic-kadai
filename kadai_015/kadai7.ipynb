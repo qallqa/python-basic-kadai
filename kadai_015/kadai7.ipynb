{
  "nbformat": 4,
  "nbformat_minor": 0,
  "metadata": {
    "colab": {
      "provenance": []
    },
    "kernelspec": {
      "name": "python3",
      "display_name": "Python 3"
    },
    "language_info": {
      "name": "python"
    }
  },
  "cells": [
    {
      "cell_type": "code",
      "execution_count": 3,
      "metadata": {
        "colab": {
          "base_uri": "https://localhost:8080/"
        },
        "id": "BjgJDqTPYieY",
        "outputId": "56a440da-c1be-43aa-9da2-330832767687"
      },
      "outputs": [
        {
          "output_type": "stream",
          "name": "stdout",
          "text": [
            "渡辺太郎\n",
            "41\n"
          ]
        }
      ],
      "source": [
        "class Human:\n",
        "  def init (self):\n",
        "    self.name=\"\"\n",
        "    self.age=\"\"\n",
        "\n",
        "  def printinfo(self,name,age):\n",
        "    self.name=name\n",
        "    self.age=age\n",
        "\n",
        "  def show_name(self):\n",
        "    print(self.name)\n",
        "\n",
        "  def show_age(self):\n",
        "    print(self.age)\n",
        "\n",
        "ningen=Human()\n",
        "\n",
        "ningen.printinfo(\"渡辺太郎\",41)\n",
        "ningen.show_name()\n",
        "ningen.show_age()\n"
      ]
    }
  ]
}