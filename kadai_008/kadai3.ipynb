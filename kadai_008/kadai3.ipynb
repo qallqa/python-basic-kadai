{
  "nbformat": 4,
  "nbformat_minor": 0,
  "metadata": {
    "colab": {
      "provenance": []
    },
    "kernelspec": {
      "name": "python3",
      "display_name": "Python 3"
    },
    "language_info": {
      "name": "python"
    }
  },
  "cells": [
    {
      "cell_type": "code",
      "execution_count": 86,
      "metadata": {
        "id": "-nIMEAymm4qy",
        "colab": {
          "base_uri": "https://localhost:8080/"
        },
        "outputId": "5460b902-199a-4ac8-f158-f08b69319670"
      },
      "outputs": [
        {
          "output_type": "stream",
          "name": "stdout",
          "text": [
            "Buzz\n"
          ]
        }
      ],
      "source": [
        "import random\n",
        "\n",
        "var=random.randint(1,46)\n",
        "\n",
        "if var%3==0 and var%5==0:\n",
        "  print(\"FizzBuzz\")\n",
        "\n",
        "elif var%5==0:\n",
        "  print(\"Buzz\")\n",
        "\n",
        "elif var%3==0:\n",
        "  print(\"Fizz\")\n",
        "\n",
        "else:\n",
        "  print(var)"
      ]
    }
  ]
}