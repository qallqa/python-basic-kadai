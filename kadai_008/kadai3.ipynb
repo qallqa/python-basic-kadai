{
  "nbformat": 4,
  "nbformat_minor": 0,
  "metadata": {
    "colab": {
      "provenance": []
    },
    "kernelspec": {
      "name": "python3",
      "display_name": "Python 3"
    },
    "language_info": {
      "name": "python"
    }
  },
  "cells": [
    {
      "cell_type": "code",
      "execution_count": 8,
      "metadata": {
        "id": "-nIMEAymm4qy",
        "colab": {
          "base_uri": "https://localhost:8080/"
        },
        "outputId": "9762b770-bfda-4ff1-f666-a4d6a06d1bb2"
      },
      "outputs": [
        {
          "output_type": "stream",
          "name": "stdout",
          "text": [
            "Fizz\n"
          ]
        }
      ],
      "source": [
        "import random\n",
        "\n",
        "var=random.randint(1, 30)\n",
        "\n",
        "if var%3==0:\n",
        "  print(\"Fizz\")\n",
        "\n",
        "elif var%5==0:\n",
        "  print(\"Buzz\")\n",
        "\n",
        "elif var%15==0:\n",
        "  print(\"FizzBuzz\")\n",
        "\n",
        "else:\n",
        "  print(var)"
      ]
    }
  ]
}