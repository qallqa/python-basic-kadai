{
  "nbformat": 4,
  "nbformat_minor": 0,
  "metadata": {
    "colab": {
      "provenance": []
    },
    "kernelspec": {
      "name": "python3",
      "display_name": "Python 3"
    },
    "language_info": {
      "name": "python"
    }
  },
  "cells": [
    {
      "cell_type": "code",
      "execution_count": 22,
      "metadata": {
        "colab": {
          "base_uri": "https://localhost:8080/"
        },
        "id": "GA-JNpsn0s6D",
        "outputId": "ef5ace14-6af9-4065-ce60-c8e1155938ff"
      },
      "outputs": [
        {
          "output_type": "stream",
          "name": "stdout",
          "text": [
            "330.0\n"
          ]
        }
      ],
      "source": [
        "tax=1.1\n",
        "\n",
        "def total():\n",
        "    price1=100\n",
        "    price2=200\n",
        "    sum=price1+price2\n",
        "    return sum\n",
        "\n",
        "print(total()*tax)\n",
        "\n"
      ]
    }
  ]
}