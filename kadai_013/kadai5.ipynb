{
  "nbformat": 4,
  "nbformat_minor": 0,
  "metadata": {
    "colab": {
      "provenance": []
    },
    "kernelspec": {
      "name": "python3",
      "display_name": "Python 3"
    },
    "language_info": {
      "name": "python"
    }
  },
  "cells": [
    {
      "cell_type": "code",
      "execution_count": 1,
      "metadata": {
        "id": "kxfiTHYB7fIR",
        "colab": {
          "base_uri": "https://localhost:8080/"
        },
        "outputId": "6fe1746a-9fe8-4962-825b-9667aa399c77"
      },
      "outputs": [
        {
          "output_type": "execute_result",
          "data": {
            "text/plain": [
              "2750.0"
            ]
          },
          "metadata": {},
          "execution_count": 1
        }
      ],
      "source": [
        "def calculate_product(price,tax):\n",
        "\n",
        "    total=price*(1+tax/100)\n",
        "    return total\n",
        "\n",
        "calculate_product(2500,10)"
      ]
    }
  ]
}