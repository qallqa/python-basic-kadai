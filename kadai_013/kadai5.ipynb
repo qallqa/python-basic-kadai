{
  "nbformat": 4,
  "nbformat_minor": 0,
  "metadata": {
    "colab": {
      "provenance": []
    },
    "kernelspec": {
      "name": "python3",
      "display_name": "Python 3"
    },
    "language_info": {
      "name": "python"
    }
  },
  "cells": [
    {
      "cell_type": "code",
      "execution_count": 27,
      "metadata": {
        "id": "kxfiTHYB7fIR",
        "colab": {
          "base_uri": "https://localhost:8080/"
        },
        "outputId": "f7504dbd-823e-4f1d-d591-e56c49df4554"
      },
      "outputs": [
        {
          "output_type": "execute_result",
          "data": {
            "text/plain": [
              "2750.0"
            ]
          },
          "metadata": {},
          "execution_count": 27
        }
      ],
      "source": [
        "def calculate_product(price=2500,tax=10):\n",
        "\n",
        "    total=price*(1+tax/100)\n",
        "    return total\n",
        "\n",
        "calculate_product()"
      ]
    }
  ]
}