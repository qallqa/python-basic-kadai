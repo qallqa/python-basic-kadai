{
  "nbformat": 4,
  "nbformat_minor": 0,
  "metadata": {
    "colab": {
      "provenance": []
    },
    "kernelspec": {
      "name": "python3",
      "display_name": "Python 3"
    },
    "language_info": {
      "name": "python"
    }
  },
  "cells": [
    {
      "cell_type": "code",
      "execution_count": 3,
      "metadata": {
        "colab": {
          "base_uri": "https://localhost:8080/"
        },
        "id": "kxfiTHYB7fIR",
        "outputId": "c89be4c6-5dd7-4706-be76-e7ce9020121a"
      },
      "outputs": [
        {
          "output_type": "stream",
          "name": "stdout",
          "text": [
            "2750.0円\n"
          ]
        }
      ],
      "source": [
        "def merchandise(price,tax):\n",
        "  sum=price*(1+tax/100)\n",
        "  print(f\"{sum}円\")\n",
        "\n",
        "merchandise(2500,10)"
      ]
    }
  ]
}