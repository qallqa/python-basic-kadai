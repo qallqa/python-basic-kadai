{
  "nbformat": 4,
  "nbformat_minor": 0,
  "metadata": {
    "colab": {
      "provenance": []
    },
    "kernelspec": {
      "name": "python3",
      "display_name": "Python 3"
    },
    "language_info": {
      "name": "python"
    }
  },
  "cells": [
    {
      "cell_type": "code",
      "execution_count": 1,
      "metadata": {
        "colab": {
          "base_uri": "https://localhost:8080/"
        },
        "id": "kxfiTHYB7fIR",
        "outputId": "dccc02d7-e499-416b-b1db-f2e4e9f3b2cc"
      },
      "outputs": [
        {
          "output_type": "stream",
          "name": "stdout",
          "text": [
            "2750.0円\n"
          ]
        }
      ],
      "source": [
        "\n",
        "def calculate_product(price):\n",
        "\n",
        "  total=price*(1+10/100)\n",
        "  print(f\"{total}円\")\n",
        "\n",
        "calculate_product(2500)"
      ]
    }
  ]
}