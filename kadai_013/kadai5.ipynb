{
  "nbformat": 4,
  "nbformat_minor": 0,
  "metadata": {
    "colab": {
      "provenance": []
    },
    "kernelspec": {
      "name": "python3",
      "display_name": "Python 3"
    },
    "language_info": {
      "name": "python"
    }
  },
  "cells": [
    {
      "cell_type": "code",
      "execution_count": null,
      "metadata": {
        "id": "kxfiTHYB7fIR"
      },
      "outputs": [],
      "source": [
        "def calculate_product(price,tax=10):\n",
        "\n",
        "    total=price*(1+tax/100)\n",
        "    return total\n",
        "\n",
        "calculate_product()"
      ]
    }
  ]
}